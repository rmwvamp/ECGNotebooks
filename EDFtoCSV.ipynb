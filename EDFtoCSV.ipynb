{
  "nbformat": 4,
  "nbformat_minor": 0,
  "metadata": {
    "colab": {
      "name": "EDFtoCSV.ipynb",
      "provenance": [],
      "authorship_tag": "ABX9TyMwjzNEy4mxYw3xZwGx/V4A",
      "include_colab_link": true
    },
    "kernelspec": {
      "name": "python3",
      "display_name": "Python 3"
    },
    "language_info": {
      "name": "python"
    }
  },
  "cells": [
    {
      "cell_type": "markdown",
      "metadata": {
        "id": "view-in-github",
        "colab_type": "text"
      },
      "source": [
        "<a href=\"https://colab.research.google.com/github/rmwvamp/ECGNotebooks/blob/main/EDFtoCSV.ipynb\" target=\"_parent\"><img src=\"https://colab.research.google.com/assets/colab-badge.svg\" alt=\"Open In Colab\"/></a>"
      ]
    },
    {
      "cell_type": "markdown",
      "source": [
        "# Libraries and Mounting"
      ],
      "metadata": {
        "id": "g94Zszz3XzzY"
      }
    },
    {
      "cell_type": "code",
      "source": [
        "pip install pyEDFlib\n"
      ],
      "metadata": {
        "colab": {
          "base_uri": "https://localhost:8080/"
        },
        "id": "_p9A78H_Xuy-",
        "outputId": "b7d75f26-f045-44b7-9d18-7e7676684317"
      },
      "execution_count": null,
      "outputs": [
        {
          "output_type": "stream",
          "name": "stdout",
          "text": [
            "Collecting pyEDFlib\n",
            "  Downloading pyEDFlib-0.1.28-cp37-cp37m-manylinux_2_17_x86_64.manylinux2014_x86_64.whl (2.4 MB)\n",
            "\u001b[K     |████████████████████████████████| 2.4 MB 5.2 MB/s \n",
            "\u001b[?25hRequirement already satisfied: numpy>=1.9.1 in /usr/local/lib/python3.7/dist-packages (from pyEDFlib) (1.21.6)\n",
            "Installing collected packages: pyEDFlib\n",
            "Successfully installed pyEDFlib-0.1.28\n"
          ]
        }
      ]
    },
    {
      "cell_type": "code",
      "execution_count": null,
      "metadata": {
        "id": "AODlqdW-XhXi"
      },
      "outputs": [],
      "source": [
        "import pyedflib\n",
        "import numpy as np"
      ]
    },
    {
      "cell_type": "code",
      "source": [
        "from google.colab import drive\n",
        "drive.mount('/gdrive')"
      ],
      "metadata": {
        "colab": {
          "base_uri": "https://localhost:8080/"
        },
        "id": "IcGsFFUrX9KH",
        "outputId": "4b24e173-7ede-4cbd-fa95-108402334dea"
      },
      "execution_count": null,
      "outputs": [
        {
          "output_type": "stream",
          "name": "stdout",
          "text": [
            "Mounted at /gdrive\n"
          ]
        }
      ]
    },
    {
      "cell_type": "code",
      "source": [
        "%cd /gdrive"
      ],
      "metadata": {
        "colab": {
          "base_uri": "https://localhost:8080/"
        },
        "id": "ncSgo45oYKfm",
        "outputId": "619a97a0-4091-4be3-8423-377a9576ffa0"
      },
      "execution_count": null,
      "outputs": [
        {
          "output_type": "stream",
          "name": "stdout",
          "text": [
            "/gdrive\n"
          ]
        }
      ]
    },
    {
      "cell_type": "markdown",
      "source": [
        "# Logic"
      ],
      "metadata": {
        "id": "gDOrTvVLYMrP"
      }
    },
    {
      "cell_type": "code",
      "source": [
        ""
      ],
      "metadata": {
        "id": "1oO97iArYLvE"
      },
      "execution_count": null,
      "outputs": []
    },
    {
      "cell_type": "code",
      "source": [
        "f = pyedflib.EdfReader(f'/gdrive/MyDrive/Subject00_1.edf')\n",
        "csv_file = open(f'/gdrive/MyDrive/Subject00_1.csv', \"w+\")\n",
        "\n",
        "n = f.signals_in_file\n",
        "signal_labels = f.getSignalLabels()\n",
        "signal_labels_row = \",\".join(signal_labels)\n",
        "csv_file.write(signal_labels_row + '\\n')\n",
        "\n",
        "sigbufs = np.zeros((n, f.getNSamples()[0]))\n",
        "for i in np.arange(n):\n",
        "  sigbufs[i, :] = f.readSignal(i)\n",
        "\n",
        "sigbufs = sigbufs.transpose()\n",
        "\n",
        "for row in sigbufs:\n",
        "  sigbufs_list = row.tolist()\n",
        "  format_sigbufs_list = ['%.4f' % elem for elem in sigbufs_list]\n",
        "  sigbufs_str = ','.join(format_sigbufs_list)\n",
        "  csv_file.write(sigbufs_str + '\\n')\n",
        "\n",
        "print(f'Done!')\n",
        "csv_file.close()\n",
        "f._close()\n",
        "del f"
      ],
      "metadata": {
        "colab": {
          "base_uri": "https://localhost:8080/"
        },
        "id": "oOgDcOtOXxbp",
        "outputId": "8b186821-d6b5-4d6f-c4a1-725997e4d5f4"
      },
      "execution_count": null,
      "outputs": [
        {
          "output_type": "stream",
          "name": "stdout",
          "text": [
            "Done!\n"
          ]
        }
      ]
    }
  ]
}