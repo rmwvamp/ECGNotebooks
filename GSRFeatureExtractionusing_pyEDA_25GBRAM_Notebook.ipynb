{
  "nbformat": 4,
  "nbformat_minor": 0,
  "metadata": {
    "colab": {
      "name": "GSRFeatureExtractionusing_pyEDA_25GBRAM_Notebook.ipynb",
      "provenance": [],
      "collapsed_sections": [],
      "machine_shape": "hm",
      "include_colab_link": true
    },
    "kernelspec": {
      "name": "python3",
      "display_name": "Python 3"
    },
    "accelerator": "TPU"
  },
  "cells": [
    {
      "cell_type": "markdown",
      "metadata": {
        "id": "view-in-github",
        "colab_type": "text"
      },
      "source": [
        "<a href=\"https://colab.research.google.com/github/rmwvamp/ECGNotebooks/blob/main/GSRFeatureExtractionusing_pyEDA_25GBRAM_Notebook.ipynb\" target=\"_parent\"><img src=\"https://colab.research.google.com/assets/colab-badge.svg\" alt=\"Open In Colab\"/></a>"
      ]
    },
    {
      "cell_type": "markdown",
      "source": [
        "#  Drive Mounting and Dependencies"
      ],
      "metadata": {
        "id": "WDSVrHZdF_MV"
      }
    },
    {
      "cell_type": "code",
      "source": [
        "from google.colab import drive\n",
        "drive.mount('/gdrive')\n",
        "%cd /gdrive"
      ],
      "metadata": {
        "id": "Sfd1CF64GDgU",
        "colab": {
          "base_uri": "https://localhost:8080/"
        },
        "outputId": "83743166-8d29-4574-b91f-01472c5aa263"
      },
      "execution_count": null,
      "outputs": [
        {
          "output_type": "stream",
          "name": "stdout",
          "text": [
            "Mounted at /gdrive\n",
            "/gdrive\n"
          ]
        }
      ]
    },
    {
      "cell_type": "code",
      "source": [
        "!pip install wfdb\n",
        "!pip install opensignalsreader\n",
        "!pip install pyhrv\n",
        "!pip install biosppy\n",
        "!pip install pyhrv\n",
        "!pip install torchvision"
      ],
      "metadata": {
        "id": "euMBeiTOGGqZ",
        "colab": {
          "base_uri": "https://localhost:8080/"
        },
        "outputId": "7c9723dd-5f39-4d3d-95a0-c5a6764ed4e6"
      },
      "execution_count": null,
      "outputs": [
        {
          "output_type": "stream",
          "name": "stdout",
          "text": [
            "Collecting wfdb\n",
            "  Downloading wfdb-3.4.1-py3-none-any.whl (137 kB)\n",
            "\u001b[?25l\r\u001b[K     |██▍                             | 10 kB 27.5 MB/s eta 0:00:01\r\u001b[K     |████▊                           | 20 kB 11.8 MB/s eta 0:00:01\r\u001b[K     |███████▏                        | 30 kB 8.4 MB/s eta 0:00:01\r\u001b[K     |█████████▌                      | 40 kB 7.6 MB/s eta 0:00:01\r\u001b[K     |████████████                    | 51 kB 3.6 MB/s eta 0:00:01\r\u001b[K     |██████████████▎                 | 61 kB 4.2 MB/s eta 0:00:01\r\u001b[K     |████████████████▋               | 71 kB 4.4 MB/s eta 0:00:01\r\u001b[K     |███████████████████             | 81 kB 3.4 MB/s eta 0:00:01\r\u001b[K     |█████████████████████▍          | 92 kB 3.8 MB/s eta 0:00:01\r\u001b[K     |███████████████████████▉        | 102 kB 4.2 MB/s eta 0:00:01\r\u001b[K     |██████████████████████████▏     | 112 kB 4.2 MB/s eta 0:00:01\r\u001b[K     |████████████████████████████▋   | 122 kB 4.2 MB/s eta 0:00:01\r\u001b[K     |███████████████████████████████ | 133 kB 4.2 MB/s eta 0:00:01\r\u001b[K     |████████████████████████████████| 137 kB 4.2 MB/s \n",
            "\u001b[?25hRequirement already satisfied: requests>=2.8.1 in /usr/local/lib/python3.7/dist-packages (from wfdb) (2.23.0)\n",
            "Requirement already satisfied: numpy>=1.10.1 in /usr/local/lib/python3.7/dist-packages (from wfdb) (1.21.6)\n",
            "Requirement already satisfied: scipy>=0.17.0 in /usr/local/lib/python3.7/dist-packages (from wfdb) (1.4.1)\n",
            "Collecting matplotlib>=3.3.4\n",
            "  Downloading matplotlib-3.5.2-cp37-cp37m-manylinux_2_5_x86_64.manylinux1_x86_64.whl (11.2 MB)\n",
            "\u001b[K     |████████████████████████████████| 11.2 MB 41.1 MB/s \n",
            "\u001b[?25hRequirement already satisfied: pandas>=0.17.0 in /usr/local/lib/python3.7/dist-packages (from wfdb) (1.3.5)\n",
            "Requirement already satisfied: kiwisolver>=1.0.1 in /usr/local/lib/python3.7/dist-packages (from matplotlib>=3.3.4->wfdb) (1.4.2)\n",
            "Collecting fonttools>=4.22.0\n",
            "  Downloading fonttools-4.33.3-py3-none-any.whl (930 kB)\n",
            "\u001b[K     |████████████████████████████████| 930 kB 53.6 MB/s \n",
            "\u001b[?25hRequirement already satisfied: cycler>=0.10 in /usr/local/lib/python3.7/dist-packages (from matplotlib>=3.3.4->wfdb) (0.11.0)\n",
            "Requirement already satisfied: packaging>=20.0 in /usr/local/lib/python3.7/dist-packages (from matplotlib>=3.3.4->wfdb) (21.3)\n",
            "Requirement already satisfied: pyparsing>=2.2.1 in /usr/local/lib/python3.7/dist-packages (from matplotlib>=3.3.4->wfdb) (3.0.9)\n",
            "Requirement already satisfied: pillow>=6.2.0 in /usr/local/lib/python3.7/dist-packages (from matplotlib>=3.3.4->wfdb) (7.1.2)\n",
            "Requirement already satisfied: python-dateutil>=2.7 in /usr/local/lib/python3.7/dist-packages (from matplotlib>=3.3.4->wfdb) (2.8.2)\n",
            "Requirement already satisfied: typing-extensions in /usr/local/lib/python3.7/dist-packages (from kiwisolver>=1.0.1->matplotlib>=3.3.4->wfdb) (4.2.0)\n",
            "Requirement already satisfied: pytz>=2017.3 in /usr/local/lib/python3.7/dist-packages (from pandas>=0.17.0->wfdb) (2022.1)\n",
            "Requirement already satisfied: six>=1.5 in /usr/local/lib/python3.7/dist-packages (from python-dateutil>=2.7->matplotlib>=3.3.4->wfdb) (1.15.0)\n",
            "Requirement already satisfied: certifi>=2017.4.17 in /usr/local/lib/python3.7/dist-packages (from requests>=2.8.1->wfdb) (2021.10.8)\n",
            "Requirement already satisfied: urllib3!=1.25.0,!=1.25.1,<1.26,>=1.21.1 in /usr/local/lib/python3.7/dist-packages (from requests>=2.8.1->wfdb) (1.24.3)\n",
            "Requirement already satisfied: chardet<4,>=3.0.2 in /usr/local/lib/python3.7/dist-packages (from requests>=2.8.1->wfdb) (3.0.4)\n",
            "Requirement already satisfied: idna<3,>=2.5 in /usr/local/lib/python3.7/dist-packages (from requests>=2.8.1->wfdb) (2.10)\n",
            "Installing collected packages: fonttools, matplotlib, wfdb\n",
            "  Attempting uninstall: matplotlib\n",
            "    Found existing installation: matplotlib 3.2.2\n",
            "    Uninstalling matplotlib-3.2.2:\n",
            "      Successfully uninstalled matplotlib-3.2.2\n",
            "\u001b[31mERROR: pip's dependency resolver does not currently take into account all the packages that are installed. This behaviour is the source of the following dependency conflicts.\n",
            "albumentations 0.1.12 requires imgaug<0.2.7,>=0.2.5, but you have imgaug 0.2.9 which is incompatible.\u001b[0m\n",
            "Successfully installed fonttools-4.33.3 matplotlib-3.5.2 wfdb-3.4.1\n"
          ]
        },
        {
          "output_type": "display_data",
          "data": {
            "application/vnd.colab-display-data+json": {
              "pip_warning": {
                "packages": [
                  "matplotlib",
                  "mpl_toolkits"
                ]
              }
            }
          },
          "metadata": {}
        },
        {
          "output_type": "stream",
          "name": "stdout",
          "text": [
            "Collecting opensignalsreader\n",
            "  Downloading opensignalsreader-0.2.2-py3-none-any.whl (55 kB)\n",
            "\u001b[K     |████████████████████████████████| 55 kB 2.0 MB/s \n",
            "\u001b[?25hRequirement already satisfied: matplotlib in /usr/local/lib/python3.7/dist-packages (from opensignalsreader) (3.5.2)\n",
            "Requirement already satisfied: numpy in /usr/local/lib/python3.7/dist-packages (from opensignalsreader) (1.21.6)\n",
            "Requirement already satisfied: fonttools>=4.22.0 in /usr/local/lib/python3.7/dist-packages (from matplotlib->opensignalsreader) (4.33.3)\n",
            "Requirement already satisfied: cycler>=0.10 in /usr/local/lib/python3.7/dist-packages (from matplotlib->opensignalsreader) (0.11.0)\n",
            "Requirement already satisfied: pillow>=6.2.0 in /usr/local/lib/python3.7/dist-packages (from matplotlib->opensignalsreader) (7.1.2)\n",
            "Requirement already satisfied: python-dateutil>=2.7 in /usr/local/lib/python3.7/dist-packages (from matplotlib->opensignalsreader) (2.8.2)\n",
            "Requirement already satisfied: packaging>=20.0 in /usr/local/lib/python3.7/dist-packages (from matplotlib->opensignalsreader) (21.3)\n",
            "Requirement already satisfied: kiwisolver>=1.0.1 in /usr/local/lib/python3.7/dist-packages (from matplotlib->opensignalsreader) (1.4.2)\n",
            "Requirement already satisfied: pyparsing>=2.2.1 in /usr/local/lib/python3.7/dist-packages (from matplotlib->opensignalsreader) (3.0.9)\n",
            "Requirement already satisfied: typing-extensions in /usr/local/lib/python3.7/dist-packages (from kiwisolver>=1.0.1->matplotlib->opensignalsreader) (4.2.0)\n",
            "Requirement already satisfied: six>=1.5 in /usr/local/lib/python3.7/dist-packages (from python-dateutil>=2.7->matplotlib->opensignalsreader) (1.15.0)\n",
            "Installing collected packages: opensignalsreader\n",
            "Successfully installed opensignalsreader-0.2.2\n",
            "Collecting pyhrv\n",
            "  Downloading pyhrv-0.4.0-py3-none-any.whl (3.2 MB)\n",
            "\u001b[K     |████████████████████████████████| 3.2 MB 4.3 MB/s \n",
            "\u001b[?25hRequirement already satisfied: scipy in /usr/local/lib/python3.7/dist-packages (from pyhrv) (1.4.1)\n",
            "Requirement already satisfied: matplotlib in /usr/local/lib/python3.7/dist-packages (from pyhrv) (3.5.2)\n",
            "Requirement already satisfied: numpy in /usr/local/lib/python3.7/dist-packages (from pyhrv) (1.21.6)\n",
            "Collecting biosppy\n",
            "  Downloading biosppy-0.8.0.tar.gz (1.5 MB)\n",
            "\u001b[K     |████████████████████████████████| 1.5 MB 45.1 MB/s \n",
            "\u001b[?25hCollecting spectrum\n",
            "  Downloading spectrum-0.8.1.tar.gz (230 kB)\n",
            "\u001b[K     |████████████████████████████████| 230 kB 50.2 MB/s \n",
            "\u001b[?25hCollecting nolds\n",
            "  Downloading nolds-0.5.2-py2.py3-none-any.whl (39 kB)\n",
            "Collecting bidict\n",
            "  Downloading bidict-0.22.0-py3-none-any.whl (36 kB)\n",
            "Requirement already satisfied: h5py in /usr/local/lib/python3.7/dist-packages (from biosppy->pyhrv) (3.1.0)\n",
            "Requirement already satisfied: scikit-learn in /usr/local/lib/python3.7/dist-packages (from biosppy->pyhrv) (1.0.2)\n",
            "Collecting shortuuid\n",
            "  Downloading shortuuid-1.0.9-py3-none-any.whl (9.4 kB)\n",
            "Requirement already satisfied: six in /usr/local/lib/python3.7/dist-packages (from biosppy->pyhrv) (1.15.0)\n",
            "Requirement already satisfied: joblib in /usr/local/lib/python3.7/dist-packages (from biosppy->pyhrv) (1.1.0)\n",
            "Requirement already satisfied: opencv-python in /usr/local/lib/python3.7/dist-packages (from biosppy->pyhrv) (4.1.2.30)\n",
            "Requirement already satisfied: cached-property in /usr/local/lib/python3.7/dist-packages (from h5py->biosppy->pyhrv) (1.5.2)\n",
            "Requirement already satisfied: kiwisolver>=1.0.1 in /usr/local/lib/python3.7/dist-packages (from matplotlib->pyhrv) (1.4.2)\n",
            "Requirement already satisfied: fonttools>=4.22.0 in /usr/local/lib/python3.7/dist-packages (from matplotlib->pyhrv) (4.33.3)\n",
            "Requirement already satisfied: pillow>=6.2.0 in /usr/local/lib/python3.7/dist-packages (from matplotlib->pyhrv) (7.1.2)\n",
            "Requirement already satisfied: cycler>=0.10 in /usr/local/lib/python3.7/dist-packages (from matplotlib->pyhrv) (0.11.0)\n",
            "Requirement already satisfied: packaging>=20.0 in /usr/local/lib/python3.7/dist-packages (from matplotlib->pyhrv) (21.3)\n",
            "Requirement already satisfied: pyparsing>=2.2.1 in /usr/local/lib/python3.7/dist-packages (from matplotlib->pyhrv) (3.0.9)\n",
            "Requirement already satisfied: python-dateutil>=2.7 in /usr/local/lib/python3.7/dist-packages (from matplotlib->pyhrv) (2.8.2)\n",
            "Requirement already satisfied: typing-extensions in /usr/local/lib/python3.7/dist-packages (from kiwisolver>=1.0.1->matplotlib->pyhrv) (4.2.0)\n",
            "Requirement already satisfied: setuptools in /usr/local/lib/python3.7/dist-packages (from nolds->pyhrv) (57.4.0)\n",
            "Requirement already satisfied: future in /usr/local/lib/python3.7/dist-packages (from nolds->pyhrv) (0.16.0)\n",
            "Requirement already satisfied: threadpoolctl>=2.0.0 in /usr/local/lib/python3.7/dist-packages (from scikit-learn->biosppy->pyhrv) (3.1.0)\n",
            "Collecting easydev\n",
            "  Downloading easydev-0.12.0.tar.gz (47 kB)\n",
            "\u001b[K     |████████████████████████████████| 47 kB 4.0 MB/s \n",
            "\u001b[?25hCollecting colorama\n",
            "  Downloading colorama-0.4.4-py2.py3-none-any.whl (16 kB)\n",
            "Requirement already satisfied: pexpect in /usr/local/lib/python3.7/dist-packages (from easydev->spectrum->pyhrv) (4.8.0)\n",
            "Collecting colorlog\n",
            "  Downloading colorlog-6.6.0-py2.py3-none-any.whl (11 kB)\n",
            "Requirement already satisfied: ptyprocess>=0.5 in /usr/local/lib/python3.7/dist-packages (from pexpect->easydev->spectrum->pyhrv) (0.7.0)\n",
            "Building wheels for collected packages: biosppy, spectrum, easydev\n",
            "  Building wheel for biosppy (setup.py) ... \u001b[?25l\u001b[?25hdone\n",
            "  Created wheel for biosppy: filename=biosppy-0.8.0-py2.py3-none-any.whl size=100176 sha256=171be954f84ed6d145d007cd3afb8d8359afd2f82cc2cb6286f4e474ebbd61fd\n",
            "  Stored in directory: /root/.cache/pip/wheels/32/17/9d/77adbf0db713546eaa1c7a1480b2dce91fa724a133115dc20c\n",
            "  Building wheel for spectrum (setup.py) ... \u001b[?25l\u001b[?25hdone\n",
            "  Created wheel for spectrum: filename=spectrum-0.8.1-cp37-cp37m-linux_x86_64.whl size=235155 sha256=755cea4011c64c9f2969e40c8f738ca054befce3df3ed07beb2241823ffe44b5\n",
            "  Stored in directory: /root/.cache/pip/wheels/79/db/9c/92fa684ca088447807d08672e7609b48102c6161ac9c7e3c62\n",
            "  Building wheel for easydev (setup.py) ... \u001b[?25l\u001b[?25hdone\n",
            "  Created wheel for easydev: filename=easydev-0.12.0-py3-none-any.whl size=64232 sha256=d8bd240acdedd9be47031345dc578e266d0f61df483e2ea979e6dde30dab7af0\n",
            "  Stored in directory: /root/.cache/pip/wheels/82/ab/83/fdfc4017ea44a585b6754752cc5f63f2d0d63fcc1317e7174b\n",
            "Successfully built biosppy spectrum easydev\n",
            "Installing collected packages: colorlog, colorama, shortuuid, easydev, bidict, spectrum, nolds, biosppy, pyhrv\n",
            "Successfully installed bidict-0.22.0 biosppy-0.8.0 colorama-0.4.4 colorlog-6.6.0 easydev-0.12.0 nolds-0.5.2 pyhrv-0.4.0 shortuuid-1.0.9 spectrum-0.8.1\n",
            "Requirement already satisfied: biosppy in /usr/local/lib/python3.7/dist-packages (0.8.0)\n",
            "Requirement already satisfied: scikit-learn in /usr/local/lib/python3.7/dist-packages (from biosppy) (1.0.2)\n",
            "Requirement already satisfied: h5py in /usr/local/lib/python3.7/dist-packages (from biosppy) (3.1.0)\n",
            "Requirement already satisfied: joblib in /usr/local/lib/python3.7/dist-packages (from biosppy) (1.1.0)\n",
            "Requirement already satisfied: six in /usr/local/lib/python3.7/dist-packages (from biosppy) (1.15.0)\n",
            "Requirement already satisfied: scipy in /usr/local/lib/python3.7/dist-packages (from biosppy) (1.4.1)\n",
            "Requirement already satisfied: bidict in /usr/local/lib/python3.7/dist-packages (from biosppy) (0.22.0)\n",
            "Requirement already satisfied: numpy in /usr/local/lib/python3.7/dist-packages (from biosppy) (1.21.6)\n",
            "Requirement already satisfied: matplotlib in /usr/local/lib/python3.7/dist-packages (from biosppy) (3.5.2)\n",
            "Requirement already satisfied: shortuuid in /usr/local/lib/python3.7/dist-packages (from biosppy) (1.0.9)\n",
            "Requirement already satisfied: opencv-python in /usr/local/lib/python3.7/dist-packages (from biosppy) (4.1.2.30)\n",
            "Requirement already satisfied: cached-property in /usr/local/lib/python3.7/dist-packages (from h5py->biosppy) (1.5.2)\n",
            "Requirement already satisfied: fonttools>=4.22.0 in /usr/local/lib/python3.7/dist-packages (from matplotlib->biosppy) (4.33.3)\n",
            "Requirement already satisfied: packaging>=20.0 in /usr/local/lib/python3.7/dist-packages (from matplotlib->biosppy) (21.3)\n",
            "Requirement already satisfied: pyparsing>=2.2.1 in /usr/local/lib/python3.7/dist-packages (from matplotlib->biosppy) (3.0.9)\n",
            "Requirement already satisfied: pillow>=6.2.0 in /usr/local/lib/python3.7/dist-packages (from matplotlib->biosppy) (7.1.2)\n",
            "Requirement already satisfied: kiwisolver>=1.0.1 in /usr/local/lib/python3.7/dist-packages (from matplotlib->biosppy) (1.4.2)\n",
            "Requirement already satisfied: cycler>=0.10 in /usr/local/lib/python3.7/dist-packages (from matplotlib->biosppy) (0.11.0)\n",
            "Requirement already satisfied: python-dateutil>=2.7 in /usr/local/lib/python3.7/dist-packages (from matplotlib->biosppy) (2.8.2)\n",
            "Requirement already satisfied: typing-extensions in /usr/local/lib/python3.7/dist-packages (from kiwisolver>=1.0.1->matplotlib->biosppy) (4.2.0)\n",
            "Requirement already satisfied: threadpoolctl>=2.0.0 in /usr/local/lib/python3.7/dist-packages (from scikit-learn->biosppy) (3.1.0)\n",
            "Requirement already satisfied: pyhrv in /usr/local/lib/python3.7/dist-packages (0.4.0)\n",
            "Requirement already satisfied: nolds in /usr/local/lib/python3.7/dist-packages (from pyhrv) (0.5.2)\n",
            "Requirement already satisfied: matplotlib in /usr/local/lib/python3.7/dist-packages (from pyhrv) (3.5.2)\n",
            "Requirement already satisfied: spectrum in /usr/local/lib/python3.7/dist-packages (from pyhrv) (0.8.1)\n",
            "Requirement already satisfied: scipy in /usr/local/lib/python3.7/dist-packages (from pyhrv) (1.4.1)\n",
            "Requirement already satisfied: biosppy in /usr/local/lib/python3.7/dist-packages (from pyhrv) (0.8.0)\n",
            "Requirement already satisfied: numpy in /usr/local/lib/python3.7/dist-packages (from pyhrv) (1.21.6)\n",
            "Requirement already satisfied: shortuuid in /usr/local/lib/python3.7/dist-packages (from biosppy->pyhrv) (1.0.9)\n",
            "Requirement already satisfied: bidict in /usr/local/lib/python3.7/dist-packages (from biosppy->pyhrv) (0.22.0)\n",
            "Requirement already satisfied: scikit-learn in /usr/local/lib/python3.7/dist-packages (from biosppy->pyhrv) (1.0.2)\n",
            "Requirement already satisfied: h5py in /usr/local/lib/python3.7/dist-packages (from biosppy->pyhrv) (3.1.0)\n",
            "Requirement already satisfied: joblib in /usr/local/lib/python3.7/dist-packages (from biosppy->pyhrv) (1.1.0)\n",
            "Requirement already satisfied: six in /usr/local/lib/python3.7/dist-packages (from biosppy->pyhrv) (1.15.0)\n",
            "Requirement already satisfied: opencv-python in /usr/local/lib/python3.7/dist-packages (from biosppy->pyhrv) (4.1.2.30)\n",
            "Requirement already satisfied: cached-property in /usr/local/lib/python3.7/dist-packages (from h5py->biosppy->pyhrv) (1.5.2)\n",
            "Requirement already satisfied: cycler>=0.10 in /usr/local/lib/python3.7/dist-packages (from matplotlib->pyhrv) (0.11.0)\n",
            "Requirement already satisfied: fonttools>=4.22.0 in /usr/local/lib/python3.7/dist-packages (from matplotlib->pyhrv) (4.33.3)\n",
            "Requirement already satisfied: python-dateutil>=2.7 in /usr/local/lib/python3.7/dist-packages (from matplotlib->pyhrv) (2.8.2)\n",
            "Requirement already satisfied: pillow>=6.2.0 in /usr/local/lib/python3.7/dist-packages (from matplotlib->pyhrv) (7.1.2)\n",
            "Requirement already satisfied: pyparsing>=2.2.1 in /usr/local/lib/python3.7/dist-packages (from matplotlib->pyhrv) (3.0.9)\n",
            "Requirement already satisfied: kiwisolver>=1.0.1 in /usr/local/lib/python3.7/dist-packages (from matplotlib->pyhrv) (1.4.2)\n",
            "Requirement already satisfied: packaging>=20.0 in /usr/local/lib/python3.7/dist-packages (from matplotlib->pyhrv) (21.3)\n",
            "Requirement already satisfied: typing-extensions in /usr/local/lib/python3.7/dist-packages (from kiwisolver>=1.0.1->matplotlib->pyhrv) (4.2.0)\n",
            "Requirement already satisfied: setuptools in /usr/local/lib/python3.7/dist-packages (from nolds->pyhrv) (57.4.0)\n",
            "Requirement already satisfied: future in /usr/local/lib/python3.7/dist-packages (from nolds->pyhrv) (0.16.0)\n",
            "Requirement already satisfied: threadpoolctl>=2.0.0 in /usr/local/lib/python3.7/dist-packages (from scikit-learn->biosppy->pyhrv) (3.1.0)\n",
            "Requirement already satisfied: easydev in /usr/local/lib/python3.7/dist-packages (from spectrum->pyhrv) (0.12.0)\n",
            "Requirement already satisfied: colorlog in /usr/local/lib/python3.7/dist-packages (from easydev->spectrum->pyhrv) (6.6.0)\n",
            "Requirement already satisfied: pexpect in /usr/local/lib/python3.7/dist-packages (from easydev->spectrum->pyhrv) (4.8.0)\n",
            "Requirement already satisfied: colorama in /usr/local/lib/python3.7/dist-packages (from easydev->spectrum->pyhrv) (0.4.4)\n",
            "Requirement already satisfied: ptyprocess>=0.5 in /usr/local/lib/python3.7/dist-packages (from pexpect->easydev->spectrum->pyhrv) (0.7.0)\n",
            "Requirement already satisfied: torchvision in /usr/local/lib/python3.7/dist-packages (0.12.0+cu113)\n",
            "Requirement already satisfied: torch==1.11.0 in /usr/local/lib/python3.7/dist-packages (from torchvision) (1.11.0+cu113)\n",
            "Requirement already satisfied: numpy in /usr/local/lib/python3.7/dist-packages (from torchvision) (1.21.6)\n",
            "Requirement already satisfied: requests in /usr/local/lib/python3.7/dist-packages (from torchvision) (2.23.0)\n",
            "Requirement already satisfied: typing-extensions in /usr/local/lib/python3.7/dist-packages (from torchvision) (4.2.0)\n",
            "Requirement already satisfied: pillow!=8.3.*,>=5.3.0 in /usr/local/lib/python3.7/dist-packages (from torchvision) (7.1.2)\n",
            "Requirement already satisfied: chardet<4,>=3.0.2 in /usr/local/lib/python3.7/dist-packages (from requests->torchvision) (3.0.4)\n",
            "Requirement already satisfied: idna<3,>=2.5 in /usr/local/lib/python3.7/dist-packages (from requests->torchvision) (2.10)\n",
            "Requirement already satisfied: urllib3!=1.25.0,!=1.25.1,<1.26,>=1.21.1 in /usr/local/lib/python3.7/dist-packages (from requests->torchvision) (1.24.3)\n",
            "Requirement already satisfied: certifi>=2017.4.17 in /usr/local/lib/python3.7/dist-packages (from requests->torchvision) (2021.10.8)\n"
          ]
        }
      ]
    },
    {
      "cell_type": "code",
      "source": [
        "import os\n",
        "import sys\n",
        "import csv\n",
        "\n",
        "#median\n",
        "import statistics\n",
        "from statistics import median\n",
        "\n",
        "import os\n",
        "from glob import glob\n",
        "\n",
        "# data science\n",
        "import pandas as pd\n",
        "import numpy as np\n",
        "import matplotlib.pyplot as plt\n",
        "from matplotlib.patches import Ellipse\n",
        "import seaborn as sns\n",
        "\n",
        "# signal processing\n",
        "from scipy import signal\n",
        "from scipy.ndimage import label\n",
        "from scipy.stats import zscore\n",
        "from scipy.interpolate import interp1d\n",
        "from scipy.integrate import trapz\n",
        "\n",
        "# physionet data\n",
        "import wfdb\n",
        "from wfdb import processing\n",
        "\n",
        "import numpy as np\n",
        "import pandas as pd\n",
        "pd.set_option('display.max_colwidth',100000)\n"
      ],
      "metadata": {
        "id": "CYnkKQHxGIIE"
      },
      "execution_count": null,
      "outputs": []
    },
    {
      "cell_type": "markdown",
      "source": [
        "### Cloning pyEDA: An Open-Source Python Toolkit for Pre-processing and Feature Extraction of Electrodermal Activity and Importing\n"
      ],
      "metadata": {
        "id": "wK--c1XnIISm"
      }
    },
    {
      "cell_type": "code",
      "source": [
        "%cd /gdrive/MyDrive/SamsungWork"
      ],
      "metadata": {
        "colab": {
          "base_uri": "https://localhost:8080/"
        },
        "id": "6I_JMVj2IP8u",
        "outputId": "5656ae2b-7623-4ee3-8606-46ab8308b88d"
      },
      "execution_count": null,
      "outputs": [
        {
          "output_type": "stream",
          "name": "stdout",
          "text": [
            "/gdrive/MyDrive/SamsungWork\n"
          ]
        }
      ]
    },
    {
      "cell_type": "code",
      "source": [
        "!ls"
      ],
      "metadata": {
        "colab": {
          "base_uri": "https://localhost:8080/"
        },
        "id": "bIPbIfDsIm6u",
        "outputId": "007ceddf-6123-4f91-bd9b-3cbc8def742a"
      },
      "execution_count": null,
      "outputs": [
        {
          "output_type": "stream",
          "name": "stdout",
          "text": [
            "ECGExtractedFeatures_25April22\t\t ECGFeatures5Seconds_2_CompleteDF\n",
            "ECGFeatures10Seconds\t\t\t ECGFeatures5SecondsCompleteDF\n",
            "ECGFeatures10Seconds_1May22\t\t ExtractedFeatures\n",
            "ECGFeatures10Seconds_2May22\t\t FinalECGFeatures10Seconds\n",
            "ECGFeatures10Seconds_3May22\t\t FinalECGFeatures5SecondsCompleteDF\n",
            "ECGFeatures5Seconds\t\t\t Participant2Data\n",
            "ECGFeatures5Seconds_1\t\t\t pyEDA\n",
            "ECGFeatures5Seconds_2_60SecondWindowing\n"
          ]
        }
      ]
    },
    {
      "cell_type": "code",
      "source": [
        "# ! git clone https://github.com/HealthSciTech/pyEDA"
      ],
      "metadata": {
        "id": "7N6SO2DmIojD"
      },
      "execution_count": null,
      "outputs": []
    },
    {
      "cell_type": "code",
      "source": [
        "!ls"
      ],
      "metadata": {
        "colab": {
          "base_uri": "https://localhost:8080/"
        },
        "id": "eNfJQ-zvI8Qi",
        "outputId": "520edf83-4875-4cf3-cf42-6729b07bf521"
      },
      "execution_count": null,
      "outputs": [
        {
          "output_type": "stream",
          "name": "stdout",
          "text": [
            "ECGExtractedFeatures_25April22\t\t ECGFeatures5Seconds_2_CompleteDF\n",
            "ECGFeatures10Seconds\t\t\t ECGFeatures5SecondsCompleteDF\n",
            "ECGFeatures10Seconds_1May22\t\t ExtractedFeatures\n",
            "ECGFeatures10Seconds_2May22\t\t FinalECGFeatures10Seconds\n",
            "ECGFeatures10Seconds_3May22\t\t FinalECGFeatures5SecondsCompleteDF\n",
            "ECGFeatures5Seconds\t\t\t Participant2Data\n",
            "ECGFeatures5Seconds_1\t\t\t pyEDA\n",
            "ECGFeatures5Seconds_2_60SecondWindowing\n"
          ]
        }
      ]
    },
    {
      "cell_type": "code",
      "source": [
        "from pyEDA.main import *"
      ],
      "metadata": {
        "id": "qUZnbXciJBtH"
      },
      "execution_count": null,
      "outputs": []
    },
    {
      "cell_type": "markdown",
      "source": [
        "# Setting up Files"
      ],
      "metadata": {
        "id": "IScfUXxsJ2D3"
      }
    },
    {
      "cell_type": "markdown",
      "source": [
        "## Defining Process Statistical Feature GSR"
      ],
      "metadata": {
        "id": "F0AhA2bJYSgj"
      }
    },
    {
      "cell_type": "code",
      "source": [
        "def segmentwise_custom(gsrdata, sample_rate, segment_width=120, segment_overlap=0,\n",
        "                        segment_min_size=5):\n",
        "\t'''processes passed gsrdata.\n",
        "\tProcesses the passed gsr data. Returns measures{} dict containing results.\n",
        "\t\n",
        "\tParameters\n",
        "\t----------\n",
        "\tgsrdata : 1d array or list \n",
        "\t\tarray or list containing gsr data to be analysed\n",
        "\tsample_rate : int or float\n",
        "\t\tthe sample rate with which the gsr data is sampled\n",
        "\tsegment_width : int or float\n",
        "\t\twidth of segments in seconds\n",
        "\t\tdefault : 120\n",
        "\tsegment_overlap: float\n",
        "\t\toverlap fraction of adjacent segments.\n",
        "\t\tNeeds to be 0 <= segment_overlap < 1.\n",
        "\t\tdefault : 0 (no overlap)\n",
        "\tsegment_min_size : int\n",
        "\t\toften a tail end of the data remains after segmenting into segments.\n",
        "\t\tdefault : 20\n",
        "\t\n",
        "\tReturns\n",
        "\t-------\n",
        "\tgsrdata_segmentwise : 2d array or list \n",
        "\t\tarray or list containing segmentwised gsr data to be analysed\n",
        "\torking_data : dict\n",
        "\t\tdictionary object used to store temporary values.\n",
        "\ts_measures : dict\n",
        "\t\tdictionary object used by heartpy to store computed measures.\n",
        "\t'''\n",
        "\tslice_indices = make_windows(gsrdata, sample_rate, segment_width, segment_overlap, segment_min_size)\n",
        "\t\n",
        "\ts_measures = {}\n",
        "\ts_working_data = {}\n",
        "\t\n",
        "\tgsrdata_segmentwise = []\n",
        "\tfor i, ii in slice_indices:\n",
        "\t\tgsrdata_segmentwise.append(gsrdata[i:ii])\n",
        "\t\ts_measures = append_dict(s_measures, 'segment_indices', (i, ii))\n",
        "\t\ts_working_data = append_dict(s_working_data, 'segment_indices', (i, ii))\n",
        "\treturn s_working_data, s_measures, gsrdata_segmentwise"
      ],
      "metadata": {
        "id": "UbndPOSuaR7U"
      },
      "execution_count": null,
      "outputs": []
    },
    {
      "cell_type": "code",
      "source": [
        "def rolling_mean_custom(data, windowsize, sample_rate):\n",
        "  '''calculates rolling mean\n",
        "    Function to calculate moving average over the passed data\n",
        "\t\n",
        "    Parameters\n",
        "    ----------\n",
        "    data : 1-d array\n",
        "        array containing the gsr data\n",
        "    windowsize : int or float \n",
        "        the moving average window size in seconds \n",
        "    sample_rate : int or float\n",
        "        the sample rate of the data set\n",
        "\t\t\n",
        "    Returns\n",
        "    -------\n",
        "    rol_mean : 1-d array\n",
        "        array containing computed rolling mean\n",
        "  '''\n",
        "  avg_hr = (np.mean(data))\n",
        "  data_arr = np.array(data)\n",
        "\t\n",
        "  t_windowsize = int(windowsize*sample_rate)\n",
        "  t_shape = data_arr.shape[:-1] + (data_arr.shape[-1] - t_windowsize + 1, t_windowsize)\n",
        "  t_strides = data_arr.strides + (data_arr.strides[-1],)\n",
        "  sep_win = np.lib.stride_tricks.as_strided(data_arr, shape=t_shape, strides=t_strides)\n",
        "  rol_mean = np.mean(sep_win, axis=1)\n",
        "\t\n",
        "  missing_vals = np.array([avg_hr for i in range(0, int(abs(len(data_arr) - len(rol_mean))/2))])\n",
        "  rol_mean = np.insert(rol_mean, 0, missing_vals)\n",
        "  rol_mean = np.append(rol_mean, missing_vals)\n",
        "\n",
        "  #only to catch length errors that sometimes unexplicably occur. \n",
        "  ##Generally not executed, excluded from testing and coverage\n",
        "  if len(rol_mean) != len(data): # pragma: no cover\n",
        "    lendiff = len(rol_mean) - len(data)\n",
        "    if lendiff < 0:\n",
        "      rol_mean = np.append(rol_mean, 0)\n",
        "    else:\n",
        "      rol_mean = rol_mean[:-1]\n",
        "\t  \n",
        "  return rol_mean"
      ],
      "metadata": {
        "id": "68zmVjZbenBu"
      },
      "execution_count": null,
      "outputs": []
    },
    {
      "cell_type": "code",
      "source": [
        "def process_statistical_customfunction(gsr_signal, use_scipy=True, sample_rate=128, new_sample_rate=40, segment_width=600, segment_overlap=0):\n",
        "\tgsrdata = np.array(gsr_signal)\n",
        "\t\n",
        "\n",
        "\t#################################################################################\n",
        "\t############################## Preprocessing Part ###############################\n",
        "\t\n",
        "\t# Resample the data based on original data rate of your device, here: 128Hz\n",
        "\t# data = resample_data(gsrdata, sample_rate, new_sample_rate)\n",
        "\t\n",
        "\t# Segmentwise the data based on window sizes\n",
        "\ts_working_data, s_measures, gsrdata_segmentwise = segmentwise_custom(data, sample_rate=new_sample_rate, segment_width=segment_width, segment_overlap=segment_overlap)\n",
        "\t\n",
        "\tpreprocessed_gsr = []\n",
        "\tfor i in gsrdata_segmentwise:\n",
        "\t\tpreprocessed_gsr.append(rolling_mean_custom(i, 1./new_sample_rate, new_sample_rate))\n",
        "\t\n",
        "\t############################## Preprocessing Part ###############################\n",
        "\t#################################################################################\n",
        "\t\n",
        "\t\n",
        "\t\n",
        "\t#################################################################################\n",
        "\t############################ Feature Extraction Part ############################\n",
        "\t\n",
        "\t# Statistical Feature Extraction\n",
        "\tfor i in preprocessed_gsr:\n",
        "\t\tworking_data, measures = statistical_feature_extraction(i, new_sample_rate, use_scipy=use_scipy)\n",
        "\t\tfor k in measures.keys():\n",
        "\t\t\ts_measures = append_dict(s_measures, k, measures[k])\n",
        "\t\tfor k in working_data.keys():\n",
        "\t\t\ts_working_data = append_dict(s_working_data, k, working_data[k])\n",
        "\t\n",
        "\twd = s_working_data\n",
        "\tm = s_measures\n",
        "\t\t\n",
        "\t############################ Feature Extraction Part ############################\n",
        "\t#################################################################################\n",
        "\t\n",
        "\treturn m, wd, preprocessed_gsr"
      ],
      "metadata": {
        "id": "p1ciu8ZyYW3w"
      },
      "execution_count": null,
      "outputs": []
    },
    {
      "cell_type": "markdown",
      "source": [
        "### Setting up Baseline files"
      ],
      "metadata": {
        "id": "QkU-wB5cKDNf"
      }
    },
    {
      "cell_type": "code",
      "source": [
        "%cd /gdrive/MyDrive/Class_Dataset/CLAS Dataset/Participants/Part10/by_block"
      ],
      "metadata": {
        "colab": {
          "base_uri": "https://localhost:8080/"
        },
        "id": "fkepLlwCL4uJ",
        "outputId": "b73b0f57-d1e3-45dd-b33d-6a525ee48711"
      },
      "execution_count": null,
      "outputs": [
        {
          "output_type": "stream",
          "name": "stdout",
          "text": [
            "/gdrive/.shortcut-targets-by-id/1oRmZOKPo1r153R8uQckeuhxEs5K25BXY/Class_Dataset/CLAS Dataset/Participants/Part10/by_block\n"
          ]
        }
      ]
    },
    {
      "cell_type": "code",
      "source": [
        "baseline_file=['1_gsr_ppg_.csv','4_gsr_ppg_.csv','7_gsr_ppg_.csv','10_gsr_ppg_.csv']"
      ],
      "metadata": {
        "id": "n5HpCQvPKGI8"
      },
      "execution_count": null,
      "outputs": []
    },
    {
      "cell_type": "code",
      "source": [
        "baseline_df=pd.read_csv(baseline_file[0])"
      ],
      "metadata": {
        "id": "u5pzPWGHLwMj"
      },
      "execution_count": null,
      "outputs": []
    },
    {
      "cell_type": "code",
      "source": [
        "for base in baseline_file[1:]:\n",
        "    data=pd.read_csv(base)\n",
        "    baseline_df=baseline_df.append(data,ignore_index=True)"
      ],
      "metadata": {
        "id": "2e9UOz6tLxzZ"
      },
      "execution_count": null,
      "outputs": []
    },
    {
      "cell_type": "code",
      "source": [
        "baseline_df=baseline_df.drop(['Timestamp','ppg','PythonTimestamp','accelx','accely','accelz'],axis=1)"
      ],
      "metadata": {
        "id": "Dn26EJViLzOr"
      },
      "execution_count": null,
      "outputs": []
    },
    {
      "cell_type": "code",
      "source": [
        " baseline_df"
      ],
      "metadata": {
        "colab": {
          "base_uri": "https://localhost:8080/",
          "height": 424
        },
        "id": "bwbvgWWzMEhe",
        "outputId": "6681d65b-0ce1-4079-a2c5-c59bc83dc5b1"
      },
      "execution_count": null,
      "outputs": [
        {
          "output_type": "execute_result",
          "data": {
            "text/plain": [
              "              gsr\n",
              "0      157.394536\n",
              "1      157.394536\n",
              "2      157.521110\n",
              "3      157.647887\n",
              "4      157.521110\n",
              "...           ...\n",
              "38410  100.630619\n",
              "38411  100.682344\n",
              "38412  100.682344\n",
              "38413  100.682344\n",
              "38414  100.734122\n",
              "\n",
              "[38415 rows x 1 columns]"
            ],
            "text/html": [
              "\n",
              "  <div id=\"df-500c9354-b252-47e5-84b3-bcfb6a7f0d70\">\n",
              "    <div class=\"colab-df-container\">\n",
              "      <div>\n",
              "<style scoped>\n",
              "    .dataframe tbody tr th:only-of-type {\n",
              "        vertical-align: middle;\n",
              "    }\n",
              "\n",
              "    .dataframe tbody tr th {\n",
              "        vertical-align: top;\n",
              "    }\n",
              "\n",
              "    .dataframe thead th {\n",
              "        text-align: right;\n",
              "    }\n",
              "</style>\n",
              "<table border=\"1\" class=\"dataframe\">\n",
              "  <thead>\n",
              "    <tr style=\"text-align: right;\">\n",
              "      <th></th>\n",
              "      <th>gsr</th>\n",
              "    </tr>\n",
              "  </thead>\n",
              "  <tbody>\n",
              "    <tr>\n",
              "      <th>0</th>\n",
              "      <td>157.394536</td>\n",
              "    </tr>\n",
              "    <tr>\n",
              "      <th>1</th>\n",
              "      <td>157.394536</td>\n",
              "    </tr>\n",
              "    <tr>\n",
              "      <th>2</th>\n",
              "      <td>157.521110</td>\n",
              "    </tr>\n",
              "    <tr>\n",
              "      <th>3</th>\n",
              "      <td>157.647887</td>\n",
              "    </tr>\n",
              "    <tr>\n",
              "      <th>4</th>\n",
              "      <td>157.521110</td>\n",
              "    </tr>\n",
              "    <tr>\n",
              "      <th>...</th>\n",
              "      <td>...</td>\n",
              "    </tr>\n",
              "    <tr>\n",
              "      <th>38410</th>\n",
              "      <td>100.630619</td>\n",
              "    </tr>\n",
              "    <tr>\n",
              "      <th>38411</th>\n",
              "      <td>100.682344</td>\n",
              "    </tr>\n",
              "    <tr>\n",
              "      <th>38412</th>\n",
              "      <td>100.682344</td>\n",
              "    </tr>\n",
              "    <tr>\n",
              "      <th>38413</th>\n",
              "      <td>100.682344</td>\n",
              "    </tr>\n",
              "    <tr>\n",
              "      <th>38414</th>\n",
              "      <td>100.734122</td>\n",
              "    </tr>\n",
              "  </tbody>\n",
              "</table>\n",
              "<p>38415 rows × 1 columns</p>\n",
              "</div>\n",
              "      <button class=\"colab-df-convert\" onclick=\"convertToInteractive('df-500c9354-b252-47e5-84b3-bcfb6a7f0d70')\"\n",
              "              title=\"Convert this dataframe to an interactive table.\"\n",
              "              style=\"display:none;\">\n",
              "        \n",
              "  <svg xmlns=\"http://www.w3.org/2000/svg\" height=\"24px\"viewBox=\"0 0 24 24\"\n",
              "       width=\"24px\">\n",
              "    <path d=\"M0 0h24v24H0V0z\" fill=\"none\"/>\n",
              "    <path d=\"M18.56 5.44l.94 2.06.94-2.06 2.06-.94-2.06-.94-.94-2.06-.94 2.06-2.06.94zm-11 1L8.5 8.5l.94-2.06 2.06-.94-2.06-.94L8.5 2.5l-.94 2.06-2.06.94zm10 10l.94 2.06.94-2.06 2.06-.94-2.06-.94-.94-2.06-.94 2.06-2.06.94z\"/><path d=\"M17.41 7.96l-1.37-1.37c-.4-.4-.92-.59-1.43-.59-.52 0-1.04.2-1.43.59L10.3 9.45l-7.72 7.72c-.78.78-.78 2.05 0 2.83L4 21.41c.39.39.9.59 1.41.59.51 0 1.02-.2 1.41-.59l7.78-7.78 2.81-2.81c.8-.78.8-2.07 0-2.86zM5.41 20L4 18.59l7.72-7.72 1.47 1.35L5.41 20z\"/>\n",
              "  </svg>\n",
              "      </button>\n",
              "      \n",
              "  <style>\n",
              "    .colab-df-container {\n",
              "      display:flex;\n",
              "      flex-wrap:wrap;\n",
              "      gap: 12px;\n",
              "    }\n",
              "\n",
              "    .colab-df-convert {\n",
              "      background-color: #E8F0FE;\n",
              "      border: none;\n",
              "      border-radius: 50%;\n",
              "      cursor: pointer;\n",
              "      display: none;\n",
              "      fill: #1967D2;\n",
              "      height: 32px;\n",
              "      padding: 0 0 0 0;\n",
              "      width: 32px;\n",
              "    }\n",
              "\n",
              "    .colab-df-convert:hover {\n",
              "      background-color: #E2EBFA;\n",
              "      box-shadow: 0px 1px 2px rgba(60, 64, 67, 0.3), 0px 1px 3px 1px rgba(60, 64, 67, 0.15);\n",
              "      fill: #174EA6;\n",
              "    }\n",
              "\n",
              "    [theme=dark] .colab-df-convert {\n",
              "      background-color: #3B4455;\n",
              "      fill: #D2E3FC;\n",
              "    }\n",
              "\n",
              "    [theme=dark] .colab-df-convert:hover {\n",
              "      background-color: #434B5C;\n",
              "      box-shadow: 0px 1px 3px 1px rgba(0, 0, 0, 0.15);\n",
              "      filter: drop-shadow(0px 1px 2px rgba(0, 0, 0, 0.3));\n",
              "      fill: #FFFFFF;\n",
              "    }\n",
              "  </style>\n",
              "\n",
              "      <script>\n",
              "        const buttonEl =\n",
              "          document.querySelector('#df-500c9354-b252-47e5-84b3-bcfb6a7f0d70 button.colab-df-convert');\n",
              "        buttonEl.style.display =\n",
              "          google.colab.kernel.accessAllowed ? 'block' : 'none';\n",
              "\n",
              "        async function convertToInteractive(key) {\n",
              "          const element = document.querySelector('#df-500c9354-b252-47e5-84b3-bcfb6a7f0d70');\n",
              "          const dataTable =\n",
              "            await google.colab.kernel.invokeFunction('convertToInteractive',\n",
              "                                                     [key], {});\n",
              "          if (!dataTable) return;\n",
              "\n",
              "          const docLinkHtml = 'Like what you see? Visit the ' +\n",
              "            '<a target=\"_blank\" href=https://colab.research.google.com/notebooks/data_table.ipynb>data table notebook</a>'\n",
              "            + ' to learn more about interactive tables.';\n",
              "          element.innerHTML = '';\n",
              "          dataTable['output_type'] = 'display_data';\n",
              "          await google.colab.output.renderOutput(dataTable, element);\n",
              "          const docLink = document.createElement('div');\n",
              "          docLink.innerHTML = docLinkHtml;\n",
              "          element.appendChild(docLink);\n",
              "        }\n",
              "      </script>\n",
              "    </div>\n",
              "  </div>\n",
              "  "
            ]
          },
          "metadata": {},
          "execution_count": 17
        }
      ]
    },
    {
      "cell_type": "code",
      "source": [
        "m, wd, eda_clean = process_statistical_customfunction(baseline_df, use_scipy=True, sample_rate=256, new_sample_rate=256, segment_width=20, segment_overlap=10)\n"
      ],
      "metadata": {
        "id": "FtMjzZ_JMGFt"
      },
      "execution_count": null,
      "outputs": []
    },
    {
      "cell_type": "code",
      "source": [
        "wd"
      ],
      "metadata": {
        "id": "pK3ra_afM3GZ"
      },
      "execution_count": null,
      "outputs": []
    },
    {
      "cell_type": "code",
      "source": [
        "print(type(wd))"
      ],
      "metadata": {
        "id": "j6Y9qGx2M6zw"
      },
      "execution_count": null,
      "outputs": []
    },
    {
      "cell_type": "code",
      "source": [
        "print (wd.keys())"
      ],
      "metadata": {
        "id": "ufEtc6OAN8ON"
      },
      "execution_count": null,
      "outputs": []
    },
    {
      "cell_type": "code",
      "source": [
        "print (wd.values())"
      ],
      "metadata": {
        "id": "rEPuZTmROI4w"
      },
      "execution_count": null,
      "outputs": []
    },
    {
      "cell_type": "code",
      "source": [
        "df = pd.DataFrame.from_dict(wd, orient = 'index')"
      ],
      "metadata": {
        "id": "Kvc-qyr3OYG5"
      },
      "execution_count": null,
      "outputs": []
    },
    {
      "cell_type": "code",
      "source": [
        "df"
      ],
      "metadata": {
        "id": "fS0_AuDfOlku"
      },
      "execution_count": null,
      "outputs": []
    },
    {
      "cell_type": "code",
      "source": [
        ""
      ],
      "metadata": {
        "id": "sck3PTWzOmqu"
      },
      "execution_count": null,
      "outputs": []
    },
    {
      "cell_type": "code",
      "source": [
        "! free -h"
      ],
      "metadata": {
        "colab": {
          "base_uri": "https://localhost:8080/"
        },
        "id": "Q-m4GU-9iVKi",
        "outputId": "35eb5cde-5949-477f-8456-ddff87f94396"
      },
      "execution_count": null,
      "outputs": [
        {
          "output_type": "stream",
          "name": "stdout",
          "text": [
            "              total        used        free      shared  buff/cache   available\n",
            "Mem:            25G        1.0G         23G        1.2M        922M         24G\n",
            "Swap:            0B          0B          0B\n"
          ]
        }
      ]
    },
    {
      "cell_type": "code",
      "source": [
        ""
      ],
      "metadata": {
        "id": "sb0D-eU_iXAj"
      },
      "execution_count": null,
      "outputs": []
    }
  ]
}